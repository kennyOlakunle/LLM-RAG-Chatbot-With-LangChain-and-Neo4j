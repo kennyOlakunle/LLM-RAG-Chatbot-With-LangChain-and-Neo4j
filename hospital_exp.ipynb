{
 "cells": [
  {
   "cell_type": "code",
   "execution_count": 6,
   "metadata": {},
   "outputs": [],
   "source": [
    "import pandas as pd\n",
    "import numpy as np\n",
    "import matplotlib.pyplot as plt\n",
    "import seaborn as sns\n",
    "\n",
    "# import polars as pl"
   ]
  },
  {
   "cell_type": "code",
   "execution_count": 11,
   "metadata": {},
   "outputs": [],
   "source": [
    "df = pd.read_csv('data/hospitals.csv')\n",
    "df_phy = pd.read_csv('data/physicians.csv')\n",
    "df_reviews = pd.read_csv('data/reviews.csv')"
   ]
  },
  {
   "cell_type": "code",
   "execution_count": 4,
   "metadata": {},
   "outputs": [
    {
     "data": {
      "text/html": [
       "<div>\n",
       "<style scoped>\n",
       "    .dataframe tbody tr th:only-of-type {\n",
       "        vertical-align: middle;\n",
       "    }\n",
       "\n",
       "    .dataframe tbody tr th {\n",
       "        vertical-align: top;\n",
       "    }\n",
       "\n",
       "    .dataframe thead th {\n",
       "        text-align: right;\n",
       "    }\n",
       "</style>\n",
       "<table border=\"1\" class=\"dataframe\">\n",
       "  <thead>\n",
       "    <tr style=\"text-align: right;\">\n",
       "      <th></th>\n",
       "      <th>hospital_id</th>\n",
       "      <th>hospital_name</th>\n",
       "      <th>hospital_state</th>\n",
       "    </tr>\n",
       "  </thead>\n",
       "  <tbody>\n",
       "    <tr>\n",
       "      <th>0</th>\n",
       "      <td>0</td>\n",
       "      <td>Wallace-Hamilton</td>\n",
       "      <td>CO</td>\n",
       "    </tr>\n",
       "    <tr>\n",
       "      <th>1</th>\n",
       "      <td>1</td>\n",
       "      <td>Burke, Griffin and Cooper</td>\n",
       "      <td>NC</td>\n",
       "    </tr>\n",
       "    <tr>\n",
       "      <th>2</th>\n",
       "      <td>2</td>\n",
       "      <td>Walton LLC</td>\n",
       "      <td>FL</td>\n",
       "    </tr>\n",
       "    <tr>\n",
       "      <th>3</th>\n",
       "      <td>3</td>\n",
       "      <td>Garcia Ltd</td>\n",
       "      <td>NC</td>\n",
       "    </tr>\n",
       "    <tr>\n",
       "      <th>4</th>\n",
       "      <td>4</td>\n",
       "      <td>Jones, Brown and Murray</td>\n",
       "      <td>NC</td>\n",
       "    </tr>\n",
       "  </tbody>\n",
       "</table>\n",
       "</div>"
      ],
      "text/plain": [
       "   hospital_id              hospital_name hospital_state\n",
       "0            0           Wallace-Hamilton             CO\n",
       "1            1  Burke, Griffin and Cooper             NC\n",
       "2            2                 Walton LLC             FL\n",
       "3            3                 Garcia Ltd             NC\n",
       "4            4    Jones, Brown and Murray             NC"
      ]
     },
     "execution_count": 4,
     "metadata": {},
     "output_type": "execute_result"
    }
   ],
   "source": [
    "df.head()"
   ]
  },
  {
   "cell_type": "code",
   "execution_count": 7,
   "metadata": {},
   "outputs": [
    {
     "data": {
      "text/plain": [
       "(30, 3)"
      ]
     },
     "execution_count": 7,
     "metadata": {},
     "output_type": "execute_result"
    }
   ],
   "source": [
    "df.shape"
   ]
  },
  {
   "cell_type": "code",
   "execution_count": 9,
   "metadata": {},
   "outputs": [
    {
     "data": {
      "text/html": [
       "<div>\n",
       "<style scoped>\n",
       "    .dataframe tbody tr th:only-of-type {\n",
       "        vertical-align: middle;\n",
       "    }\n",
       "\n",
       "    .dataframe tbody tr th {\n",
       "        vertical-align: top;\n",
       "    }\n",
       "\n",
       "    .dataframe thead th {\n",
       "        text-align: right;\n",
       "    }\n",
       "</style>\n",
       "<table border=\"1\" class=\"dataframe\">\n",
       "  <thead>\n",
       "    <tr style=\"text-align: right;\">\n",
       "      <th></th>\n",
       "      <th>physician_name</th>\n",
       "      <th>physician_id</th>\n",
       "      <th>physician_dob</th>\n",
       "      <th>physician_grad_year</th>\n",
       "      <th>medical_school</th>\n",
       "      <th>salary</th>\n",
       "    </tr>\n",
       "  </thead>\n",
       "  <tbody>\n",
       "    <tr>\n",
       "      <th>0</th>\n",
       "      <td>Joseph Johnson</td>\n",
       "      <td>0</td>\n",
       "      <td>1970-02-22</td>\n",
       "      <td>2000-02-22</td>\n",
       "      <td>Johns Hopkins University School of Medicine</td>\n",
       "      <td>309534.155076</td>\n",
       "    </tr>\n",
       "    <tr>\n",
       "      <th>1</th>\n",
       "      <td>Jason Williams</td>\n",
       "      <td>1</td>\n",
       "      <td>1982-12-22</td>\n",
       "      <td>2012-12-22</td>\n",
       "      <td>Mayo Clinic Alix School of Medicine</td>\n",
       "      <td>281114.503559</td>\n",
       "    </tr>\n",
       "    <tr>\n",
       "      <th>2</th>\n",
       "      <td>Jesse Gordon</td>\n",
       "      <td>2</td>\n",
       "      <td>1959-06-03</td>\n",
       "      <td>1989-06-03</td>\n",
       "      <td>David Geffen School of Medicine at UCLA</td>\n",
       "      <td>305845.584636</td>\n",
       "    </tr>\n",
       "    <tr>\n",
       "      <th>3</th>\n",
       "      <td>Heather Smith</td>\n",
       "      <td>3</td>\n",
       "      <td>1965-06-15</td>\n",
       "      <td>1995-06-15</td>\n",
       "      <td>NYU Grossman Medical School</td>\n",
       "      <td>295239.766689</td>\n",
       "    </tr>\n",
       "    <tr>\n",
       "      <th>4</th>\n",
       "      <td>Kayla Hunter DDS</td>\n",
       "      <td>4</td>\n",
       "      <td>1978-10-19</td>\n",
       "      <td>2008-10-19</td>\n",
       "      <td>David Geffen School of Medicine at UCLA</td>\n",
       "      <td>298751.355201</td>\n",
       "    </tr>\n",
       "  </tbody>\n",
       "</table>\n",
       "</div>"
      ],
      "text/plain": [
       "     physician_name  physician_id physician_dob physician_grad_year  \\\n",
       "0    Joseph Johnson             0    1970-02-22          2000-02-22   \n",
       "1    Jason Williams             1    1982-12-22          2012-12-22   \n",
       "2      Jesse Gordon             2    1959-06-03          1989-06-03   \n",
       "3     Heather Smith             3    1965-06-15          1995-06-15   \n",
       "4  Kayla Hunter DDS             4    1978-10-19          2008-10-19   \n",
       "\n",
       "                                medical_school         salary  \n",
       "0  Johns Hopkins University School of Medicine  309534.155076  \n",
       "1          Mayo Clinic Alix School of Medicine  281114.503559  \n",
       "2      David Geffen School of Medicine at UCLA  305845.584636  \n",
       "3                  NYU Grossman Medical School  295239.766689  \n",
       "4      David Geffen School of Medicine at UCLA  298751.355201  "
      ]
     },
     "execution_count": 9,
     "metadata": {},
     "output_type": "execute_result"
    }
   ],
   "source": [
    "df_phy.head()"
   ]
  },
  {
   "cell_type": "code",
   "execution_count": 10,
   "metadata": {},
   "outputs": [
    {
     "data": {
      "text/plain": [
       "(500, 6)"
      ]
     },
     "execution_count": 10,
     "metadata": {},
     "output_type": "execute_result"
    }
   ],
   "source": [
    "df_phy.shape"
   ]
  },
  {
   "cell_type": "code",
   "execution_count": 15,
   "metadata": {},
   "outputs": [
    {
     "data": {
      "text/html": [
       "<div>\n",
       "<style scoped>\n",
       "    .dataframe tbody tr th:only-of-type {\n",
       "        vertical-align: middle;\n",
       "    }\n",
       "\n",
       "    .dataframe tbody tr th {\n",
       "        vertical-align: top;\n",
       "    }\n",
       "\n",
       "    .dataframe thead th {\n",
       "        text-align: right;\n",
       "    }\n",
       "</style>\n",
       "<table border=\"1\" class=\"dataframe\">\n",
       "  <thead>\n",
       "    <tr style=\"text-align: right;\">\n",
       "      <th></th>\n",
       "      <th>review_id</th>\n",
       "      <th>visit_id</th>\n",
       "      <th>review</th>\n",
       "      <th>physician_name</th>\n",
       "      <th>hospital_name</th>\n",
       "      <th>patient_name</th>\n",
       "    </tr>\n",
       "  </thead>\n",
       "  <tbody>\n",
       "    <tr>\n",
       "      <th>0</th>\n",
       "      <td>0</td>\n",
       "      <td>6997</td>\n",
       "      <td>The medical staff at the hospital were incredi...</td>\n",
       "      <td>Laura Brown</td>\n",
       "      <td>Wallace-Hamilton</td>\n",
       "      <td>Christy Johnson</td>\n",
       "    </tr>\n",
       "    <tr>\n",
       "      <th>1</th>\n",
       "      <td>9</td>\n",
       "      <td>8138</td>\n",
       "      <td>The hospital's commitment to patient education...</td>\n",
       "      <td>Steven Watson</td>\n",
       "      <td>Wallace-Hamilton</td>\n",
       "      <td>Anna Frazier</td>\n",
       "    </tr>\n",
       "    <tr>\n",
       "      <th>2</th>\n",
       "      <td>11</td>\n",
       "      <td>680</td>\n",
       "      <td>The hospital's commitment to patient safety wa...</td>\n",
       "      <td>Chase Mcpherson Jr.</td>\n",
       "      <td>Wallace-Hamilton</td>\n",
       "      <td>Abigail Mitchell</td>\n",
       "    </tr>\n",
       "    <tr>\n",
       "      <th>3</th>\n",
       "      <td>892</td>\n",
       "      <td>9846</td>\n",
       "      <td>I had a positive experience overall at the hos...</td>\n",
       "      <td>Jason Martinez</td>\n",
       "      <td>Wallace-Hamilton</td>\n",
       "      <td>Kimberly Rivas</td>\n",
       "    </tr>\n",
       "    <tr>\n",
       "      <th>4</th>\n",
       "      <td>822</td>\n",
       "      <td>7397</td>\n",
       "      <td>The medical team at the hospital was exception...</td>\n",
       "      <td>Chelsey Davis</td>\n",
       "      <td>Wallace-Hamilton</td>\n",
       "      <td>Catherine Yang</td>\n",
       "    </tr>\n",
       "  </tbody>\n",
       "</table>\n",
       "</div>"
      ],
      "text/plain": [
       "   review_id  visit_id                                             review  \\\n",
       "0          0      6997  The medical staff at the hospital were incredi...   \n",
       "1          9      8138  The hospital's commitment to patient education...   \n",
       "2         11       680  The hospital's commitment to patient safety wa...   \n",
       "3        892      9846  I had a positive experience overall at the hos...   \n",
       "4        822      7397  The medical team at the hospital was exception...   \n",
       "\n",
       "        physician_name     hospital_name      patient_name  \n",
       "0          Laura Brown  Wallace-Hamilton   Christy Johnson  \n",
       "1        Steven Watson  Wallace-Hamilton      Anna Frazier  \n",
       "2  Chase Mcpherson Jr.  Wallace-Hamilton  Abigail Mitchell  \n",
       "3       Jason Martinez  Wallace-Hamilton    Kimberly Rivas  \n",
       "4        Chelsey Davis  Wallace-Hamilton    Catherine Yang  "
      ]
     },
     "execution_count": 15,
     "metadata": {},
     "output_type": "execute_result"
    }
   ],
   "source": [
    "df_reviews.head()"
   ]
  },
  {
   "cell_type": "code",
   "execution_count": 16,
   "metadata": {},
   "outputs": [
    {
     "data": {
      "text/plain": [
       "(1005, 6)"
      ]
     },
     "execution_count": 16,
     "metadata": {},
     "output_type": "execute_result"
    }
   ],
   "source": [
    "df_reviews.shape"
   ]
  },
  {
   "cell_type": "code",
   "execution_count": null,
   "metadata": {},
   "outputs": [],
   "source": []
  }
 ],
 "metadata": {
  "kernelspec": {
   "display_name": ".venv",
   "language": "python",
   "name": "python3"
  },
  "language_info": {
   "codemirror_mode": {
    "name": "ipython",
    "version": 3
   },
   "file_extension": ".py",
   "mimetype": "text/x-python",
   "name": "python",
   "nbconvert_exporter": "python",
   "pygments_lexer": "ipython3",
   "version": "3.11.8"
  }
 },
 "nbformat": 4,
 "nbformat_minor": 2
}
